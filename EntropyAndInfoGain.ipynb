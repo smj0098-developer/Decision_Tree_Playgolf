{
 "cells": [
  {
   "cell_type": "code",
   "execution_count": 1,
   "id": "7028a671",
   "metadata": {},
   "outputs": [
    {
     "name": "stdout",
     "output_type": "stream",
     "text": [
      "Entropy: 0.9402859586706311\n",
      "Average Entropy: 0.8921589282623617\n",
      "Information Gain: 0.04812703040826949\n"
     ]
    }
   ],
   "source": [
    "import pandas as pd\n",
    "import math\n",
    "\n",
    "# Function to compute entropy\n",
    "def compute_entropy(labels):\n",
    "    label_counts = labels.value_counts()\n",
    "    entropy = 0.0\n",
    "    total_samples = len(labels)\n",
    "\n",
    "    for count in label_counts:\n",
    "        probability = count / total_samples\n",
    "        entropy -= probability * math.log2(probability)\n",
    "\n",
    "    return entropy\n",
    "\n",
    "# Function to compute average entropy\n",
    "def compute_average_entropy(data, attribute, target):\n",
    "    attribute_values = data[attribute].value_counts()\n",
    "    total_samples = len(data)\n",
    "    average_entropy = 0.0\n",
    "\n",
    "    for attribute_value, count in attribute_values.items():\n",
    "        subset = data[data[attribute] == attribute_value]\n",
    "        subset_labels = subset[target]\n",
    "        subset_entropy = compute_entropy(subset_labels)\n",
    "        average_entropy += (count / total_samples) * subset_entropy\n",
    "\n",
    "    return average_entropy\n",
    "\n",
    "# Function to compute information gain\n",
    "def compute_information_gain(data, attribute, target):\n",
    "    parent_entropy = compute_entropy(data[target])\n",
    "    average_entropy = compute_average_entropy(data, attribute, target)\n",
    "    information_gain = parent_entropy - average_entropy\n",
    "    return information_gain\n",
    "\n",
    "# Create a pandas DataFrame\n",
    "\n",
    "data = pd.read_csv('playgolf.csv')\n",
    "\n",
    "# Compute entropy\n",
    "entropy = compute_entropy(data['Play Golf'])\n",
    "print(\"Entropy:\", entropy)\n",
    "\n",
    "# ************** Computing information gain and average entropy for 'Windy' attribute **************\n",
    "\n",
    "# Compute average entropy\n",
    "average_entropy = compute_average_entropy(data, 'Windy', 'Play Golf')\n",
    "print(\"Average Entropy:\", average_entropy)\n",
    "\n",
    "# Compute information gain\n",
    "information_gain = compute_information_gain(data, 'Windy', 'Play Golf')\n",
    "print(\"Information Gain:\", information_gain)\n"
   ]
  },
  {
   "cell_type": "code",
   "execution_count": null,
   "id": "3a9c49d8",
   "metadata": {},
   "outputs": [],
   "source": []
  }
 ],
 "metadata": {
  "kernelspec": {
   "display_name": "Python 3 (ipykernel)",
   "language": "python",
   "name": "python3"
  },
  "language_info": {
   "codemirror_mode": {
    "name": "ipython",
    "version": 3
   },
   "file_extension": ".py",
   "mimetype": "text/x-python",
   "name": "python",
   "nbconvert_exporter": "python",
   "pygments_lexer": "ipython3",
   "version": "3.9.13"
  }
 },
 "nbformat": 4,
 "nbformat_minor": 5
}
